{
 "cells": [
  {
   "cell_type": "markdown",
   "metadata": {},
   "source": [
    "### Super Resolution Generative Adversarial Networks (DCGAN)\n",
    "[original paper](https://arxiv.org/abs/1609.04802) <br>\n",
    "\n",
    "#### Datasets:\n",
    "[Div2k](https://data.vision.ee.ethz.ch/cvl/DIV2K/)"
   ]
  },
  {
   "cell_type": "code",
   "execution_count": 1,
   "metadata": {},
   "outputs": [
    {
     "name": "stderr",
     "output_type": "stream",
     "text": [
      "C:\\Users\\vedan\\AppData\\Local\\Programs\\Python\\Python38\\lib\\site-packages\\numpy\\_distributor_init.py:30: UserWarning: loaded more than 1 DLL from .libs:\n",
      "C:\\Users\\vedan\\AppData\\Local\\Programs\\Python\\Python38\\lib\\site-packages\\numpy\\.libs\\libopenblas.PYQHXLVVQ7VESDPUVUADXEVJOBGHJPAY.gfortran-win_amd64.dll\n",
      "C:\\Users\\vedan\\AppData\\Local\\Programs\\Python\\Python38\\lib\\site-packages\\numpy\\.libs\\libopenblas.WCDJNK7YVMPZQ2ME2ZZHJJRJ3JIKNDB7.gfortran-win_amd64.dll\n",
      "  warnings.warn(\"loaded more than 1 DLL from .libs:\"\n"
     ]
    }
   ],
   "source": [
    "import os\n",
    "import tensorflow as tf\n",
    "from tensorflow import keras\n",
    "from tensorflow.keras import layers\n",
    "import numpy as np\n",
    "import matplotlib.pyplot as plt\n",
    "\n",
    "# configure the GPU\n",
    "physical_devices = tf.config.list_physical_devices(\"GPU\")\n",
    "tf.config.experimental.set_memory_growth(physical_devices[0], True)"
   ]
  },
  {
   "cell_type": "code",
   "execution_count": 2,
   "metadata": {},
   "outputs": [],
   "source": [
    "hr_shape = (None, None, 3)"
   ]
  },
  {
   "cell_type": "code",
   "execution_count": 3,
   "metadata": {},
   "outputs": [],
   "source": [
    "def load_vgg(hr_shape):\n",
    "    vgg = keras.applications.VGG19(include_top=False, weights=\"imagenet\", input_shape=hr_shape)\n",
    "    # vgg.load_weights('./models/VGG19/weights.h5')\n",
    "    vgg.trainable = False\n",
    "    return keras.Model(inputs=vgg.input, outputs=vgg.layers[10].output, name='vgg')"
   ]
  },
  {
   "cell_type": "markdown",
   "metadata": {},
   "source": [
    "![why percetual loss?](./images/why_plos.png)\n",
    "\n",
    "## Generator Network\n",
    "![Generator Network](./images/SRGEN.png)"
   ]
  },
  {
   "cell_type": "markdown",
   "metadata": {},
   "source": [
    "### k(kernel-size)n(num-filters)s(stride)"
   ]
  },
  {
   "cell_type": "code",
   "execution_count": 4,
   "metadata": {},
   "outputs": [],
   "source": [
    "# B residual block\n",
    "def res_block(_input):\n",
    "    # k3n64s1\n",
    "    res_model = layers.Conv2D(64, (3, 3), padding='same')(_input)\n",
    "    res_model = layers.BatchNormalization(momentum=0.5)(res_model)\n",
    "    res_model = layers.PReLU(shared_axes=[1,2])(res_model)\n",
    "\n",
    "    # k3n64s1\n",
    "    res_model = layers.Conv2D(64, (3, 3), padding='same')(res_model)\n",
    "    res_model = layers.BatchNormalization(momentum=0.5)(res_model)\n",
    "\n",
    "    return layers.add([_input, res_model])\n",
    "\n",
    "def upscale_block(_input):\n",
    "    # k3n256s1\n",
    "    up_model = layers.Conv2D(256, (3, 3), padding='same')(_input)\n",
    "    up_model = layers.UpSampling2D(size=2)(up_model)\n",
    "    up_model = layers.PReLU(shared_axes=[1,2])(up_model)\n",
    "\n",
    "    return up_model\n",
    "\n",
    "def create_generator(_input, num_residual_blocks=16):\n",
    "\n",
    "    # Initial Convolution\n",
    "\n",
    "    # k9n64s1\n",
    "    gen_model = layers.Conv2D(64, (9, 9), padding='same')(_input)\n",
    "    gen_model = layers.PReLU(shared_axes=[1,2])(gen_model)\n",
    "\n",
    "    temp = gen_model\n",
    "\n",
    "    # Residual Blocks\n",
    "    for i in range(num_residual_blocks):\n",
    "        gen_model = res_block(gen_model)\n",
    "\n",
    "    # Post Residual Blocks\n",
    "    \n",
    "    # k3n64s1\n",
    "    gen_model = layers.Conv2D(64, (3, 3), padding='same')(gen_model)\n",
    "    gen_model = layers.BatchNormalization(momentum=0.5)(gen_model)\n",
    "    gen_model = layers.add([gen_model, temp])\n",
    "\n",
    "    # Upsampling\n",
    "\n",
    "    gen_model = upscale_block(gen_model)\n",
    "    gen_model = upscale_block(gen_model)\n",
    "\n",
    "    # Output\n",
    "\n",
    "    # k9n3s1\n",
    "    output = layers.Conv2D(3, (9, 9), padding='same')(gen_model)\n",
    "\n",
    "    return keras.Model(inputs=_input, outputs=output, name='generator')"
   ]
  },
  {
   "cell_type": "markdown",
   "metadata": {},
   "source": [
    "![B = 16](./images/b=16.png)\n",
    "\n",
    "## Discriminator Network\n",
    "![Discriminator Network](./images/SRDIS.png)"
   ]
  },
  {
   "cell_type": "code",
   "execution_count": 5,
   "metadata": {},
   "outputs": [],
   "source": [
    "def discriminator_block(_input, filters, strides=1, bn=True):\n",
    "    d_model = layers.Conv2D(filters, (3, 3), strides=strides, padding='same')(_input)\n",
    "    if bn:\n",
    "        d_model = layers.BatchNormalization(momentum=0.8)(d_model)\n",
    "    d_model = layers.LeakyReLU(alpha=0.2)(d_model)\n",
    "    return d_model\n",
    "\n",
    "def discriminator(_input):\n",
    "    # k3n64s1\n",
    "    d_model = discriminator_block(_input, 64, bn=False)\n",
    "    # k3n64s2\n",
    "    d_model = discriminator_block(d_model, 64, strides=2)\n",
    "    # k3n128s1\n",
    "    d_model = discriminator_block(d_model, 128)\n",
    "    # k3n128s2\n",
    "    d_model = discriminator_block(d_model, 128, strides=2)\n",
    "    # k3n256s1\n",
    "    d_model = discriminator_block(d_model, 256)\n",
    "    # k3n256s2\n",
    "    d_model = discriminator_block(d_model, 256, strides=2)\n",
    "    # k3n512s1\n",
    "    d_model = discriminator_block(d_model, 512)\n",
    "    # k3n512s2\n",
    "    d_model = discriminator_block(d_model, 512, strides=2)\n",
    "\n",
    "    d_model = layers.Flatten()(d_model)\n",
    "    d_model = layers.Dense(1024)(d_model)\n",
    "    d_model = layers.LeakyReLU(alpha=0.2)(d_model)\n",
    "    output = layers.Dense(1, activation=\"sigmoid\")(d_model)\n",
    "    \n",
    "    return keras.Model(inputs=_input, outputs=output, name='discriminator')"
   ]
  },
  {
   "cell_type": "code",
   "execution_count": 6,
   "metadata": {},
   "outputs": [],
   "source": [
    "lr_dim = 32\n",
    "hr_dim = 128\n",
    "epochs = 100\n",
    "scale_factor = hr_dim // lr_dim\n",
    "batch_size = 1"
   ]
  },
  {
   "cell_type": "code",
   "execution_count": 7,
   "metadata": {},
   "outputs": [
    {
     "name": "stdout",
     "output_type": "stream",
     "text": [
      "Found 800 files belonging to 1 classes.\n"
     ]
    }
   ],
   "source": [
    "hr_dataset = lr_dataset = keras.preprocessing.image_dataset_from_directory(\n",
    "    directory=\"./dataset/DIV2K_train_HR\",\n",
    "    labels=None,\n",
    "    image_size=(hr_dim, hr_dim),\n",
    "    batch_size=batch_size,\n",
    "    shuffle=True,\n",
    "    color_mode=\"rgb\",\n",
    ").map(lambda x: x/255)"
   ]
  },
  {
   "cell_type": "markdown",
   "metadata": {},
   "source": [
    "## Loss functions\n",
    "\n",
    "## Perceptual loss function\n",
    "![Perceptual loss function](./images/perceptual_loss.jpg)\n",
    "\n",
    "## Content Loss (Mean Squared Error)\n",
    "![Content loss function](./images/content_loss_SRGAN.jpg)\n",
    "\n",
    "## Adversarial loss function (Binary Cross Entropy)\n",
    "![Adversarial loss function](./images/adversarial_loss_SRGAN.jpg)"
   ]
  },
  {
   "cell_type": "code",
   "execution_count": 8,
   "metadata": {},
   "outputs": [],
   "source": [
    "class SRGAN(keras.Model):\n",
    "    def __init__(self, discriminator, generator, vgg):\n",
    "        super(SRGAN, self).__init__()\n",
    "        self.discriminator = discriminator\n",
    "        self.generator = generator\n",
    "        self.vgg = vgg\n",
    "\n",
    "    def compile(self, loss_mse, loss_bce, opt_dis, opt_gen):\n",
    "        super(SRGAN, self).compile()\n",
    "        self.loss_mse = loss_mse\n",
    "        self.loss_bce = loss_bce\n",
    "        self.opt_dis = opt_dis\n",
    "        self.opt_gen = opt_gen\n",
    "        self.d_loss_metric = keras.metrics.Mean(name=\"d_loss\")\n",
    "        self.g_loss_metric = keras.metrics.Mean(name=\"g_loss\")\n",
    "        self.p_loss_metric = keras.metrics.Mean(name=\"p_loss\")\n",
    "\n",
    "    @property\n",
    "    def metrics(self):\n",
    "        return [self.d_loss_metric, self.g_loss_metric]\n",
    "\n",
    "    def downscale(self, x, factor=2):\n",
    "        return tf.image.resize(x, (x.shape[1] // factor, x.shape[2] // factor), method=\"area\")\n",
    "\n",
    "    def train_step(self, hr_img):\n",
    "        lr_img = self.downscale(hr_img, scale_factor)\n",
    "\n",
    "        batch_size = tf.shape(hr_img)[0]\n",
    "        fake_labels = tf.zeros((batch_size, 1))\n",
    "        real_labels = tf.ones((batch_size, 1))\n",
    "        \n",
    "        # add noise to labels \n",
    "        labels = tf.concat([fake_labels, real_labels], axis=0)\n",
    "        labels += 0.05 * tf.random.uniform(tf.shape(labels))\n",
    "\n",
    "        with tf.GradientTape() as gen_tape, tf.GradientTape() as dis_tape:\n",
    "            fake_images = self.generator(lr_img)\n",
    "            \n",
    "            # train discriminator\n",
    "            self.discriminator.trainable = True\n",
    "            d_hr_out = self.discriminator(hr_img)\n",
    "            d_fake_out = self.discriminator(fake_images)\n",
    "\n",
    "            dis_output = tf.concat([d_hr_out, d_fake_out], axis=0)\n",
    "\n",
    "            d_loss = self.loss_bce(dis_output, labels)\n",
    "            # sum all values in d_loss  \n",
    "            d_loss = tf.reduce_sum(d_loss)\n",
    "            \n",
    "            # adversarial loss\n",
    "            adv_loss = self.loss_bce(tf.ones_like(d_fake_out), d_fake_out)\n",
    "\n",
    "            # content loss\n",
    "            gen_features = self.vgg(fake_images)/12.75\n",
    "            hr_features = self.vgg(hr_img)/12.75\n",
    "\n",
    "            content_loss = self.loss_mse(hr_features, gen_features)\n",
    "\n",
    "            # total loss (perceptual loss function = content loss + adversarial loss)\n",
    "            total_loss = content_loss + (1e-3 * adv_loss)\n",
    "\n",
    "        gradients_gen = gen_tape.gradient(total_loss, self.generator.trainable_variables)\n",
    "        gradients_dis = dis_tape.gradient(d_loss, self.discriminator.trainable_variables)\n",
    "\n",
    "        self.opt_gen.apply_gradients(zip(gradients_gen, self.generator.trainable_variables))\n",
    "        self.opt_dis.apply_gradients(zip(gradients_dis, self.discriminator.trainable_variables))\n",
    "\n",
    "        # Update metrics\n",
    "        self.d_loss_metric(d_loss)\n",
    "        self.g_loss_metric(total_loss)\n",
    "        self.p_loss_metric(content_loss)\n",
    "\n",
    "        return {\n",
    "            \"d_loss\": d_loss,\n",
    "            \"g_loss\": total_loss,\n",
    "            \"p_loss\": content_loss\n",
    "        }"
   ]
  },
  {
   "cell_type": "code",
   "execution_count": 9,
   "metadata": {},
   "outputs": [],
   "source": [
    "vgg_model = load_vgg((None, None, 3))\n",
    "generator_model = create_generator(layers.Input(shape=(lr_dim, lr_dim, 3)))\n",
    "discriminator_model = discriminator(layers.Input(shape=(hr_dim, hr_dim, 3)))"
   ]
  },
  {
   "cell_type": "code",
   "execution_count": 11,
   "metadata": {},
   "outputs": [],
   "source": [
    "from PIL import Image\n",
    "def load_image(im_path):\n",
    "    im = Image.open(im_path)\n",
    "    im = im.resize((lr_dim, lr_dim))\n",
    "    im = np.array(im).astype(np.float32)\n",
    "    im = im[:, :, :3]\n",
    "    return np.expand_dims((im / 255), axis=0)"
   ]
  },
  {
   "cell_type": "code",
   "execution_count": 12,
   "metadata": {},
   "outputs": [],
   "source": [
    "class SRGAN_Callback(keras.callbacks.Callback):\n",
    "    def __init__(self, image_path=\"./images/SRTEST.png\"):\n",
    "        super(SRGAN_Callback, self).__init__()\n",
    "        self.test_file_path = image_path\n",
    "\n",
    "    def on_epoch_end(self, epoch, logs=None):\n",
    "\n",
    "        lr_image = load_image(self.test_file_path)\n",
    "\n",
    "        generated_image = self.model.generator(lr_image)[0]\n",
    "        generated_image = generated_image * 255\n",
    "        generated_image.numpy()\n",
    "\n",
    "        img = keras.preprocessing.image.array_to_img(generated_image)\n",
    "        img.save(f\"./generated/SRGAN/epoch-{epoch+1}.png\")\n",
    "\n",
    "        self.model.generator.save(f\"./models/SRGAN/gen/generator-{epoch+1}\")\n",
    "        self.model.discriminator.save(f\"./models/SRGAN/dis/discriminator-{epoch+1}\")\n"
   ]
  },
  {
   "cell_type": "code",
   "execution_count": 13,
   "metadata": {},
   "outputs": [],
   "source": [
    "model = SRGAN(discriminator_model, generator_model, vgg_model)\n",
    "model.compile(\n",
    "    loss_mse=keras.losses.MeanSquaredError(),\n",
    "    loss_bce=keras.losses.BinaryCrossentropy(),\n",
    "    opt_dis=keras.optimizers.Adam(1e-4, beta_1=0.9, beta_2=0.999),\n",
    "    opt_gen=keras.optimizers.Adam(1e-4, beta_1=0.9, beta_2=0.999)\n",
    ")"
   ]
  },
  {
   "cell_type": "code",
   "execution_count": 14,
   "metadata": {},
   "outputs": [
    {
     "name": "stdout",
     "output_type": "stream",
     "text": [
      "Epoch 1/100\n",
      "800/800 [==============================] - ETA: 0s - d_loss: 1.5960 - g_loss: 0.3336 - p_loss: 0.4889- ETA: 3s - d_loss: 1.4987 - g_loss: 0.2334  - ETA: 1s - d_loss: 1.7727 - g_loss: 0.1960 - p_loss: 0 - ETA: 1s - d_loss: 1.6577 - g_loss: 0.3854 - p_WARNING:tensorflow:Compiled the loaded model, but the compiled metrics have yet to be built. `model.compile_metrics` will be empty until you train or evaluate the model.\n",
      "INFO:tensorflow:Assets written to: ./models/SRGAN/gen/generator-1\\assets\n"
     ]
    },
    {
     "name": "stderr",
     "output_type": "stream",
     "text": [
      "C:\\Users\\vedan\\AppData\\Local\\Programs\\Python\\Python38\\lib\\site-packages\\keras\\engine\\functional.py:1410: CustomMaskWarning: Custom mask layers require a config and must override get_config. When loading, the custom mask layer must be passed to the custom_objects argument.\n",
      "  layer_config = serialize_layer_fn(layer)\n",
      "C:\\Users\\vedan\\AppData\\Local\\Programs\\Python\\Python38\\lib\\site-packages\\keras\\saving\\saved_model\\layer_serialization.py:112: CustomMaskWarning: Custom mask layers require a config and must override get_config. When loading, the custom mask layer must be passed to the custom_objects argument.\n",
      "  return generic_utils.serialize_keras_object(obj)\n"
     ]
    },
    {
     "name": "stdout",
     "output_type": "stream",
     "text": [
      "WARNING:tensorflow:Compiled the loaded model, but the compiled metrics have yet to be built. `model.compile_metrics` will be empty until you train or evaluate the model.\n",
      "INFO:tensorflow:Assets written to: ./models/SRGAN/dis/discriminator-1\\assets\n",
      "800/800 [==============================] - 135s 150ms/step - d_loss: 1.5960 - g_loss: 0.3336 - p_loss: 0.4888\n",
      "Epoch 2/100\n",
      "145/800 [====>.........................] - ETA: 1:09 - d_loss: 2.4612 - g_loss: 0.4359 - p_loss: 0.3497"
     ]
    }
   ],
   "source": [
    "history = model.fit(\n",
    "    hr_dataset, \n",
    "    epochs=epochs,\n",
    "    callbacks=[SRGAN_Callback()],\n",
    "    )"
   ]
  },
  {
   "cell_type": "code",
   "execution_count": null,
   "metadata": {},
   "outputs": [
    {
     "name": "stderr",
     "output_type": "stream",
     "text": [
      "Clipping input data to the valid range for imshow with RGB data ([0..1] for floats or [0..255] for integers).\n"
     ]
    },
    {
     "data": {
      "image/png": "[encoded data removed]",
      "text/plain": [
       "<Figure size 432x288 with 2 Axes>"
      ]
     },
     "metadata": {
      "needs_background": "light"
     },
     "output_type": "display_data"
    }
   ],
   "source": [
    "# hr = model.generator(test)\n",
    "# plt.subplot(1, 2, 1)\n",
    "# plt.imshow(test[0])\n",
    "# plt.subplot(1, 2, 2)\n",
    "# plt.imshow(hr[0])\n",
    "# plt.show()"
   ]
  }
 ],
 "metadata": {
  "interpreter": {
   "hash": "94edbaacddaafd6d45ba5506bea1ce8a371c01e0c71d6cc8e1f8803236d6de55"
  },
  "kernelspec": {
   "display_name": "Python 3.8.7 64-bit",
   "language": "python",
   "name": "python3"
  },
  "language_info": {
   "codemirror_mode": {
    "name": "ipython",
    "version": 3
   },
   "file_extension": ".py",
   "mimetype": "text/x-python",
   "name": "python",
   "nbconvert_exporter": "python",
   "pygments_lexer": "ipython3",
   "version": "3.8.7"
  },
  "orig_nbformat": 4
 },
 "nbformat": 4,
 "nbformat_minor": 2
}
